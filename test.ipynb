{
 "cells": [
  {
   "cell_type": "code",
   "execution_count": 14,
   "metadata": {
    "tags": [
     "重新加载模块"
    ]
   },
   "outputs": [
    {
     "data": {
      "text/plain": [
       "<module 'DataModel' from '/home/robin/ws/toy_ml/DataModel.py'>"
      ]
     },
     "execution_count": 14,
     "metadata": {},
     "output_type": "execute_result"
    }
   ],
   "source": [
    "import importlib\n",
    "\n",
    "importlib.reload(DataModel)"
   ]
  },
  {
   "cell_type": "code",
   "execution_count": 15,
   "metadata": {},
   "outputs": [],
   "source": [
    "import DataModel\n",
    "\n",
    "data = DataModel.load_ssq()"
   ]
  },
  {
   "cell_type": "code",
   "execution_count": null,
   "metadata": {},
   "outputs": [],
   "source": [
    "import torch\n",
    "\n",
    "\n",
    "def number_frequency(data, window_size, num_classes=33):\n",
    "    freq = []\n",
    "    for i in range(len(data) - window_size):\n",
    "        window = data[i : i + window_size]\n",
    "        hist = torch.histc(window, bins=num_classes, min=1, max=num_classes)\n",
    "        freq.append(hist / window_size)\n",
    "    return torch.stack(freq)\n",
    "\n",
    "print (number_frequency(torch.tensor(data[\"Ball_1\"], dtype=torch.float), 5))"
   ]
  },
  {
   "cell_type": "code",
   "execution_count": null,
   "metadata": {},
   "outputs": [],
   "source": [
    "def number_trend(data, window_size):\n",
    "    trends = []\n",
    "    for i in range(len(data) - window_size):\n",
    "        window = data[i:i+window_size]\n",
    "        diff = window[1:] - window[:-1]\n",
    "        trend = torch.sign(diff).float()  # -1表示下降，1表示上升\n",
    "        trends.append(trend)\n",
    "    return torch.stack(trends)"
   ]
  },
  {
   "cell_type": "code",
   "execution_count": null,
   "metadata": {},
   "outputs": [],
   "source": [
    "def odd_even_feature(data):\n",
    "    return (data % 2 == 0).float()  # 偶数为1，奇数为0"
   ]
  },
  {
   "cell_type": "code",
   "execution_count": null,
   "metadata": {},
   "outputs": [],
   "source": [
    "def number_distribution(data, bins):\n",
    "    dist = []\n",
    "    for i in range(len(data)):\n",
    "        # 根据bins划分区域\n",
    "        distribution = torch.histc(data[i:i+1], bins=len(bins), min=bins[0], max=bins[-1])\n",
    "        dist.append(distribution)\n",
    "    return torch.stack(dist)"
   ]
  },
  {
   "cell_type": "code",
   "execution_count": 9,
   "metadata": {},
   "outputs": [],
   "source": [
    "def difference_and_moving_average(data, window_size):\n",
    "    diff = data[1:] - data[:-1]  # 差分\n",
    "    moving_avg = torch.conv1d(data.unsqueeze(0).unsqueeze(0).float(),\n",
    "                              torch.ones(1, 1, window_size) / window_size,\n",
    "                              padding=window_size//2).squeeze()\n",
    "    return diff, moving_avg"
   ]
  },
  {
   "cell_type": "code",
   "execution_count": null,
   "metadata": {},
   "outputs": [],
   "source": [
    "def combined_number_feature(data, red_data):\n",
    "    combined_features = []\n",
    "    for i in range(len(data)):\n",
    "        combined = torch.cat([data[i:i+1], red_data[i:i+1]], dim=-1)  # 蓝球和红球组合\n",
    "        combined_features.append(combined)\n",
    "    return torch.stack(combined_features)"
   ]
  }
 ],
 "metadata": {
  "kernelspec": {
   "display_name": "Python 3 (cuda)",
   "language": "python",
   "name": "python3_cuda"
  },
  "language_info": {
   "codemirror_mode": {
    "name": "ipython",
    "version": 3
   },
   "file_extension": ".py",
   "mimetype": "text/x-python",
   "name": "python",
   "nbconvert_exporter": "python",
   "pygments_lexer": "ipython3",
   "version": "3.12.4"
  }
 },
 "nbformat": 4,
 "nbformat_minor": 2
}
